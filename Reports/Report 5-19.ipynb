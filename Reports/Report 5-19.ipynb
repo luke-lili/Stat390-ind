{
 "cells": [
  {
   "cell_type": "markdown",
   "id": "af7d9582",
   "metadata": {},
   "source": [
    "## Progress for week of 5/19\n",
    "Pipeline updates\n",
    "- Began modeling without PCA. Seemed to be losing too much variance information which was inflating RMSE values.\n",
    "- Utilized random column to drop irrelevent columns with RandomForest feature importance comparison.\n",
    "\n",
    "Modeling Progress\n",
    "- Attempted bagging MARS models. No improvement here\n",
    "- Attempted Neural Network. Not well tuned at this point\n",
    "- Utilized tuned CatBoost to great effect. RMSE now under 8.9\n",
    "- Began ensemble testing. Stacking ensemble of CatBoost and lasso achived RMSE near 8.8\n",
    "\n",
    "\n",
    "## Plan for week of 4/21\n",
    "- Tune alpha value of lasso and rerun stacking ensemble\n",
    "- Train and tune bagged MARS model for addition to the ensemble model\n",
    "    - Aim for 8.75 threshold with ensemble model\n",
    "- Further tune neural network for addition to ensemble if threshold not achieved\n",
    "    \n",
    "Create presentation for Friday 5/26"
   ]
  },
  {
   "cell_type": "code",
   "execution_count": null,
   "id": "b843f0b4",
   "metadata": {},
   "outputs": [],
   "source": []
  }
 ],
 "metadata": {
  "kernelspec": {
   "display_name": "Python 3",
   "language": "python",
   "name": "python3"
  },
  "language_info": {
   "codemirror_mode": {
    "name": "ipython",
    "version": 3
   },
   "file_extension": ".py",
   "mimetype": "text/x-python",
   "name": "python",
   "nbconvert_exporter": "python",
   "pygments_lexer": "ipython3",
   "version": "3.6.13"
  }
 },
 "nbformat": 4,
 "nbformat_minor": 5
}
