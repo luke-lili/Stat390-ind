{
 "cells": [
  {
   "cell_type": "markdown",
   "id": "7812b17a",
   "metadata": {},
   "source": [
    "## Plan for Week of 4/16\n",
    "\n",
    "#### Data Cleaning\n",
    "- Load training and test data and address any nan entries\n",
    "- Summarize column datatypes and distributions\n",
    "\n",
    "#### Data Visualization\n",
    "- Analyze strength of relationships with response variable\n",
    "- Use groupby to visualize distributions of important variables\n",
    "- Develop dummy variables for important categorical variables\n",
    "\n",
    "#### Product\n",
    "For the next meeting:\n",
    "- Several important visualizations from personal research\n",
    "    - Documentation of insights \n",
    "- Documentation of questions/ issues occuring in analysis\n",
    "- Ideas for initial modeling based on early EDA"
   ]
  },
  {
   "cell_type": "code",
   "execution_count": null,
   "id": "a08b1d3b",
   "metadata": {},
   "outputs": [],
   "source": []
  }
 ],
 "metadata": {
  "kernelspec": {
   "display_name": "Python 3",
   "language": "python",
   "name": "python3"
  },
  "language_info": {
   "codemirror_mode": {
    "name": "ipython",
    "version": 3
   },
   "file_extension": ".py",
   "mimetype": "text/x-python",
   "name": "python",
   "nbconvert_exporter": "python",
   "pygments_lexer": "ipython3",
   "version": "3.6.13"
  }
 },
 "nbformat": 4,
 "nbformat_minor": 5
}
