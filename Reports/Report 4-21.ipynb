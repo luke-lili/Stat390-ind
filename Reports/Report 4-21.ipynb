{
 "cells": [
  {
   "cell_type": "markdown",
   "id": "929d0f96",
   "metadata": {},
   "source": [
    "## Progress for week of 4/16\n",
    "#### Data Preprocessing\n",
    "- Cleaned nan entries\n",
    "- Scaled training predictors\n",
    "\n",
    "#### Analysis and feature selection\n",
    "- Linear correlation analysis\n",
    "    - Ranked predictors by linear correlation with y. 16 with > 0.3 correlation.\n",
    "    \n",
    "- Linear predictor Lasso regression\n",
    "    - Conducted a lasso regression to select important linear predictors.\n",
    "    - 12 predictors with non-zero coefficients. Some with high correlation are not included (possible colinearity)\n",
    "\n",
    "- Initial lasso preditions\n",
    "    - lasso regression returned training rmse of 30.915\n",
    "\n",
    "#### Visualization\n",
    "- Visualization?\n",
    "\n",
    "## Plan for week of 4/24\n",
    "#### Visualize selected predictors\n",
    "- Look for non-linearity in relationship with y\n",
    "\n",
    "#### Asses non-linear important predictors\n",
    "- Run lasso regression on transformed train data\n",
    "- Compare to linear findings\n",
    "- Create new training dataset with selected linear predictors and non-linear transformations\n",
    "\n",
    "#### Asses correlation between predictors\n",
    "- Use correlation analysis and VIF metrics\n",
    "- Find useful interaction terms to improve model fit.\n",
    "\n",
    "Return a new training RMSE value\n",
    "\n"
   ]
  },
  {
   "cell_type": "code",
   "execution_count": null,
   "id": "e8ce7e9e",
   "metadata": {},
   "outputs": [],
   "source": []
  }
 ],
 "metadata": {
  "kernelspec": {
   "display_name": "Python 3",
   "language": "python",
   "name": "python3"
  },
  "language_info": {
   "codemirror_mode": {
    "name": "ipython",
    "version": 3
   },
   "file_extension": ".py",
   "mimetype": "text/x-python",
   "name": "python",
   "nbconvert_exporter": "python",
   "pygments_lexer": "ipython3",
   "version": "3.6.13"
  }
 },
 "nbformat": 4,
 "nbformat_minor": 5
}
