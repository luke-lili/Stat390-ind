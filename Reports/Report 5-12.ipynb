{
 "cells": [
  {
   "cell_type": "markdown",
   "id": "d1b974d4",
   "metadata": {},
   "source": [
    "## Progress for week of 5/12\n",
    "EDA updates\n",
    "- Removed columns with >5% NaN before imputation\n",
    "- Added log transformation to response variable\n",
    "\n",
    "Initial Modeling\n",
    "- Created initial RandomForest model.\n",
    "    - Severe overfitting currently\n",
    "    \n",
    "No improvements on rmse found this week.\n",
    "\n",
    "\n",
    "## Plan for week of 4/30\n",
    "- Tune RandomForest model with higher CV and regularization to get new rmse baseline\n",
    "- Initial modeling for boosted models\n",
    "\n",
    "- Explore ensemble solutions\n",
    "\n",
    "- Work on removing correlated columns before pcs\n",
    "\n",
    "Try segmented modeling based on clustering results"
   ]
  },
  {
   "cell_type": "code",
   "execution_count": null,
   "id": "3cc38ed2",
   "metadata": {},
   "outputs": [],
   "source": []
  }
 ],
 "metadata": {
  "kernelspec": {
   "display_name": "Python 3",
   "language": "python",
   "name": "python3"
  },
  "language_info": {
   "codemirror_mode": {
    "name": "ipython",
    "version": 3
   },
   "file_extension": ".py",
   "mimetype": "text/x-python",
   "name": "python",
   "nbconvert_exporter": "python",
   "pygments_lexer": "ipython3",
   "version": "3.6.13"
  }
 },
 "nbformat": 4,
 "nbformat_minor": 5
}
