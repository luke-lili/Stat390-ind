{
 "cells": [
  {
   "cell_type": "markdown",
   "id": "4af97d3f",
   "metadata": {},
   "source": [
    "## Progress for week of 4/28\n",
    "- Visualized relationship of y with lasso selected predictors\n",
    "- Created interaction predictors using correlation matrix findings\n",
    "- Submitted 7 times with variations on lasso regression\n",
    "    - Current optimal alpha=0.11\n",
    "\n",
    "## Plan for week of 4/30\n",
    "- Create better method of dealing with nan values\n",
    "    - Impute with mean/median of columns\n",
    "    - KNN imputation if first step not productive\n",
    "- Re-evaluate important predictors\n",
    "    - Visualize relationships\n",
    "    \n",
    "- Try clustering techniques on selected predictors\n",
    "    "
   ]
  },
  {
   "cell_type": "code",
   "execution_count": null,
   "id": "d86d3531",
   "metadata": {},
   "outputs": [],
   "source": []
  }
 ],
 "metadata": {
  "kernelspec": {
   "display_name": "Python 3",
   "language": "python",
   "name": "python3"
  },
  "language_info": {
   "codemirror_mode": {
    "name": "ipython",
    "version": 3
   },
   "file_extension": ".py",
   "mimetype": "text/x-python",
   "name": "python",
   "nbconvert_exporter": "python",
   "pygments_lexer": "ipython3",
   "version": "3.6.13"
  }
 },
 "nbformat": 4,
 "nbformat_minor": 5
}
