{
 "cells": [
  {
   "cell_type": "code",
   "execution_count": 21,
   "id": "8bb60b55",
   "metadata": {},
   "outputs": [],
   "source": [
    "import pandas as pd\n",
    "from sklearn.linear_model import Lasso\n",
    "from sklearn.preprocessing import StandardScaler\n",
    "import numpy as np\n",
    "\n",
    "data = pd.read_csv('train.csv')\n",
    "data.dropna(inplace=True)\n",
    "\n",
    "y = data.y\n",
    "X = data.drop('y', axis=1)\n",
    "\n",
    "features = X.columns"
   ]
  },
  {
   "cell_type": "code",
   "execution_count": 16,
   "id": "ae11b0ab",
   "metadata": {},
   "outputs": [],
   "source": [
    "# Scale predictors\n",
    "scaler = StandardScaler()\n",
    "X = scaler.fit_transform(X)"
   ]
  },
  {
   "cell_type": "code",
   "execution_count": 31,
   "id": "a05dfaeb",
   "metadata": {},
   "outputs": [
    {
     "data": {
      "text/plain": [
       "y       1.000000\n",
       "x102    0.386480\n",
       "x146    0.386226\n",
       "x619    0.365515\n",
       "x687    0.365401\n",
       "x696    0.353274\n",
       "x651    0.353274\n",
       "x014    0.351081\n",
       "x118    0.335609\n",
       "x724    0.335609\n",
       "x561    0.325541\n",
       "x670    0.322668\n",
       "dtype: float64"
      ]
     },
     "execution_count": 31,
     "metadata": {},
     "output_type": "execute_result"
    }
   ],
   "source": [
    "# Correlation Analysis\n",
    "data.corrwith(data.y).sort_values(ascending=False)[:12]"
   ]
  },
  {
   "cell_type": "code",
   "execution_count": 19,
   "id": "eb0a9e17",
   "metadata": {},
   "outputs": [],
   "source": [
    "# Need to select most important variables - Linear predictor Lasso\n",
    "lasso = Lasso()\n",
    "lasso.fit(X, y)"
   ]
  },
  {
   "cell_type": "code",
   "execution_count": 26,
   "id": "bfb0d35f",
   "metadata": {},
   "outputs": [],
   "source": [
    "nonzero_ind = np.nonzero(lasso.coef_)[0]\n",
    "\n",
    "selected_features = features[nonzero_ind]\n",
    "nonzero_coef = lasso.coef_[nonzero_ind]"
   ]
  },
  {
   "cell_type": "code",
   "execution_count": 25,
   "id": "b0df9731",
   "metadata": {},
   "outputs": [
    {
     "data": {
      "text/plain": [
       "Index(['x017', 'x047', 'x102', 'x105', 'x108', 'x118', 'x581', 'x619', 'x622',\n",
       "       'x702', 'x724', 'x740'],\n",
       "      dtype='object')"
      ]
     },
     "execution_count": 25,
     "metadata": {},
     "output_type": "execute_result"
    }
   ],
   "source": [
    "#Lasso selected linear features\n",
    "selected_features"
   ]
  },
  {
   "cell_type": "code",
   "execution_count": 27,
   "id": "dc3c0d1d",
   "metadata": {},
   "outputs": [
    {
     "data": {
      "text/plain": [
       "array([ 0.08320857,  0.13651052,  2.24606496,  0.91050803,  0.52280117,\n",
       "        0.65990425,  0.40400105,  0.51279009, -0.23969729,  1.22082044,\n",
       "        0.01609488,  0.27236468])"
      ]
     },
     "execution_count": 27,
     "metadata": {},
     "output_type": "execute_result"
    }
   ],
   "source": [
    "nonzero_coef"
   ]
  },
  {
   "cell_type": "code",
   "execution_count": 30,
   "id": "fcc3c3e8",
   "metadata": {},
   "outputs": [
    {
     "data": {
      "text/html": [
       "<div>\n",
       "<style scoped>\n",
       "    .dataframe tbody tr th:only-of-type {\n",
       "        vertical-align: middle;\n",
       "    }\n",
       "\n",
       "    .dataframe tbody tr th {\n",
       "        vertical-align: top;\n",
       "    }\n",
       "\n",
       "    .dataframe thead th {\n",
       "        text-align: right;\n",
       "    }\n",
       "</style>\n",
       "<table border=\"1\" class=\"dataframe\">\n",
       "  <thead>\n",
       "    <tr style=\"text-align: right;\">\n",
       "      <th></th>\n",
       "      <th>Feature</th>\n",
       "      <th>Coef</th>\n",
       "    </tr>\n",
       "  </thead>\n",
       "  <tbody>\n",
       "    <tr>\n",
       "      <th>0</th>\n",
       "      <td>x017</td>\n",
       "      <td>0.083209</td>\n",
       "    </tr>\n",
       "    <tr>\n",
       "      <th>1</th>\n",
       "      <td>x047</td>\n",
       "      <td>0.136511</td>\n",
       "    </tr>\n",
       "    <tr>\n",
       "      <th>2</th>\n",
       "      <td>x102</td>\n",
       "      <td>2.246065</td>\n",
       "    </tr>\n",
       "    <tr>\n",
       "      <th>3</th>\n",
       "      <td>x105</td>\n",
       "      <td>0.910508</td>\n",
       "    </tr>\n",
       "    <tr>\n",
       "      <th>4</th>\n",
       "      <td>x108</td>\n",
       "      <td>0.522801</td>\n",
       "    </tr>\n",
       "    <tr>\n",
       "      <th>5</th>\n",
       "      <td>x118</td>\n",
       "      <td>0.659904</td>\n",
       "    </tr>\n",
       "    <tr>\n",
       "      <th>6</th>\n",
       "      <td>x581</td>\n",
       "      <td>0.404001</td>\n",
       "    </tr>\n",
       "    <tr>\n",
       "      <th>7</th>\n",
       "      <td>x619</td>\n",
       "      <td>0.512790</td>\n",
       "    </tr>\n",
       "    <tr>\n",
       "      <th>8</th>\n",
       "      <td>x622</td>\n",
       "      <td>-0.239697</td>\n",
       "    </tr>\n",
       "    <tr>\n",
       "      <th>9</th>\n",
       "      <td>x702</td>\n",
       "      <td>1.220820</td>\n",
       "    </tr>\n",
       "    <tr>\n",
       "      <th>10</th>\n",
       "      <td>x724</td>\n",
       "      <td>0.016095</td>\n",
       "    </tr>\n",
       "    <tr>\n",
       "      <th>11</th>\n",
       "      <td>x740</td>\n",
       "      <td>0.272365</td>\n",
       "    </tr>\n",
       "  </tbody>\n",
       "</table>\n",
       "</div>"
      ],
      "text/plain": [
       "   Feature      Coef\n",
       "0     x017  0.083209\n",
       "1     x047  0.136511\n",
       "2     x102  2.246065\n",
       "3     x105  0.910508\n",
       "4     x108  0.522801\n",
       "5     x118  0.659904\n",
       "6     x581  0.404001\n",
       "7     x619  0.512790\n",
       "8     x622 -0.239697\n",
       "9     x702  1.220820\n",
       "10    x724  0.016095\n",
       "11    x740  0.272365"
      ]
     },
     "execution_count": 30,
     "metadata": {},
     "output_type": "execute_result"
    }
   ],
   "source": [
    "dfselected = pd.DataFrame({'Feature':selected_features, 'Coef':nonzero_coef})\n",
    "dfselected.sort_values()"
   ]
  },
  {
   "cell_type": "code",
   "execution_count": 40,
   "id": "2b34c397",
   "metadata": {},
   "outputs": [
    {
     "data": {
      "text/plain": [
       "30.914917048373553"
      ]
     },
     "execution_count": 40,
     "metadata": {},
     "output_type": "execute_result"
    }
   ],
   "source": [
    "# Training on linear lasso regression\n",
    "train_pred = lasso.predict(X)\n",
    "train_rmse = np.sqrt((train_pred - y).mean())\n",
    "train_rmse"
   ]
  },
  {
   "cell_type": "code",
   "execution_count": null,
   "id": "c4b6c9c3",
   "metadata": {},
   "outputs": [],
   "source": [
    "# Next steps:\n",
    "# stepwise selection\n",
    "# Visualization\n",
    "# Non-linear Analysis"
   ]
  }
 ],
 "metadata": {
  "kernelspec": {
   "display_name": "Python 3",
   "language": "python",
   "name": "python3"
  },
  "language_info": {
   "codemirror_mode": {
    "name": "ipython",
    "version": 3
   },
   "file_extension": ".py",
   "mimetype": "text/x-python",
   "name": "python",
   "nbconvert_exporter": "python",
   "pygments_lexer": "ipython3",
   "version": "3.6.13"
  }
 },
 "nbformat": 4,
 "nbformat_minor": 5
}
