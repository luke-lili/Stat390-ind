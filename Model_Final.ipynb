{
 "cells": [
  {
   "cell_type": "code",
   "execution_count": 68,
   "metadata": {
    "id": "UmT570zrtG8r"
   },
   "outputs": [],
   "source": [
    "import pandas as pd\n",
    "from sklearn.linear_model import Lasso\n",
    "from sklearn.preprocessing import StandardScaler\n",
    "import numpy as np\n",
    "import seaborn as sns\n",
    "import matplotlib.pyplot as plt\n",
    "from sklearn.metrics import mean_squared_error\n",
    "from sklearn.model_selection import cross_val_score\n",
    "from sklearn.decomposition import PCA\n",
    "from sklearn import impute\n",
    "import itertools as it\n",
    "import time as time\n",
    "from sklearn.model_selection import KFold, GridSearchCV, RandomizedSearchCV\n",
    "from sklearn.ensemble import RandomForestRegressor\n",
    "import xgboost as xgb\n",
    "from catboost import CatBoostRegressor\n",
    "\n",
    "data = pd.read_csv('train.csv')\n",
    "\n",
    "# Log transformation\n",
    "y = np.log(data.y)\n",
    "X = data.drop('y', axis=1)\n",
    "\n",
    "\n",
    "# Drop columns with >5% NaN\n",
    "inst = X.shape[0]\n",
    "nan_col = [col for col in X if (X[col].isna().sum() / inst > 0.05)]\n",
    "X = X.drop(nan_col, axis=1)\n",
    "\n",
    "\n",
    "#Impute NaN using KNNImputer\n",
    "imputer = impute.KNNImputer(n_neighbors=5)\n",
    "X = imputer.fit_transform(X)\n",
    "\n",
    "scaler = StandardScaler()\n",
    "X = scaler.fit_transform(X)\n",
    "\n",
    "X = pd.DataFrame(X)"
   ]
  },
  {
   "cell_type": "code",
   "execution_count": 69,
   "metadata": {
    "colab": {
     "base_uri": "https://localhost:8080/"
    },
    "id": "VvHjI0WOtW6v",
    "outputId": "b4c42f5a-7548-48ae-adfa-0a951e9e9b99"
   },
   "outputs": [
    {
     "name": "stdout",
     "output_type": "stream",
     "text": [
      "(5380, 727)\n",
      "Columns dropped: 11\n",
      "(5380, 716)\n"
     ]
    }
   ],
   "source": [
    "# Delete 0 variance columns\n",
    "X = pd.DataFrame(X)\n",
    "zero_var = []\n",
    "\n",
    "print(X.shape)\n",
    "\n",
    "res=[]\n",
    "for col in X:\n",
    "     if len(X[col].unique()) == 1:\n",
    "        res.append(col)\n",
    "        X = X.drop(col, axis=1)\n",
    "\n",
    "print('Columns dropped:', len(res))\n",
    "# 11 columns with only 1 value\n",
    "\n",
    "print(X.shape)"
   ]
  },
  {
   "cell_type": "code",
   "execution_count": 70,
   "metadata": {
    "colab": {
     "base_uri": "https://localhost:8080/",
     "height": 483
    },
    "id": "FjpVApcKuadH",
    "outputId": "8736bb83-aedb-491f-e7c8-2d89c72735d9"
   },
   "outputs": [
    {
     "data": {
      "text/html": [
       "\n",
       "  <div id=\"df-75c7d1ef-d0fd-48d7-bdad-d15e4da2e155\">\n",
       "    <div class=\"colab-df-container\">\n",
       "      <div>\n",
       "<style scoped>\n",
       "    .dataframe tbody tr th:only-of-type {\n",
       "        vertical-align: middle;\n",
       "    }\n",
       "\n",
       "    .dataframe tbody tr th {\n",
       "        vertical-align: top;\n",
       "    }\n",
       "\n",
       "    .dataframe thead th {\n",
       "        text-align: right;\n",
       "    }\n",
       "</style>\n",
       "<table border=\"1\" class=\"dataframe\">\n",
       "  <thead>\n",
       "    <tr style=\"text-align: right;\">\n",
       "      <th></th>\n",
       "      <th>0</th>\n",
       "      <th>1</th>\n",
       "      <th>2</th>\n",
       "      <th>3</th>\n",
       "      <th>4</th>\n",
       "      <th>5</th>\n",
       "      <th>6</th>\n",
       "      <th>7</th>\n",
       "      <th>8</th>\n",
       "      <th>9</th>\n",
       "      <th>...</th>\n",
       "      <th>random706</th>\n",
       "      <th>random707</th>\n",
       "      <th>random708</th>\n",
       "      <th>random709</th>\n",
       "      <th>random710</th>\n",
       "      <th>random711</th>\n",
       "      <th>random712</th>\n",
       "      <th>random713</th>\n",
       "      <th>random714</th>\n",
       "      <th>random715</th>\n",
       "    </tr>\n",
       "  </thead>\n",
       "  <tbody>\n",
       "    <tr>\n",
       "      <th>0</th>\n",
       "      <td>-1.731729</td>\n",
       "      <td>0.970650</td>\n",
       "      <td>-0.607871</td>\n",
       "      <td>1.646275</td>\n",
       "      <td>0.000475</td>\n",
       "      <td>1.290638</td>\n",
       "      <td>0.292676</td>\n",
       "      <td>-0.579861</td>\n",
       "      <td>-0.612177</td>\n",
       "      <td>-0.278328</td>\n",
       "      <td>...</td>\n",
       "      <td>-1.350809</td>\n",
       "      <td>-0.444715</td>\n",
       "      <td>-0.617309</td>\n",
       "      <td>2.260477</td>\n",
       "      <td>0.817205</td>\n",
       "      <td>-0.921166</td>\n",
       "      <td>0.352251</td>\n",
       "      <td>1.115675</td>\n",
       "      <td>-0.144248</td>\n",
       "      <td>-0.924522</td>\n",
       "    </tr>\n",
       "    <tr>\n",
       "      <th>1</th>\n",
       "      <td>-1.731085</td>\n",
       "      <td>-0.823592</td>\n",
       "      <td>-0.024523</td>\n",
       "      <td>-1.275256</td>\n",
       "      <td>-0.298702</td>\n",
       "      <td>-0.712843</td>\n",
       "      <td>-1.443005</td>\n",
       "      <td>0.958220</td>\n",
       "      <td>-0.101120</td>\n",
       "      <td>0.742470</td>\n",
       "      <td>...</td>\n",
       "      <td>0.566180</td>\n",
       "      <td>-1.077653</td>\n",
       "      <td>0.953611</td>\n",
       "      <td>-1.257498</td>\n",
       "      <td>-0.159406</td>\n",
       "      <td>1.578460</td>\n",
       "      <td>-0.408644</td>\n",
       "      <td>-0.311205</td>\n",
       "      <td>0.174422</td>\n",
       "      <td>1.412041</td>\n",
       "    </tr>\n",
       "    <tr>\n",
       "      <th>2</th>\n",
       "      <td>-1.730441</td>\n",
       "      <td>-0.269384</td>\n",
       "      <td>-0.860578</td>\n",
       "      <td>-0.786297</td>\n",
       "      <td>-0.302801</td>\n",
       "      <td>-0.269982</td>\n",
       "      <td>-1.443005</td>\n",
       "      <td>-0.512824</td>\n",
       "      <td>-0.942933</td>\n",
       "      <td>-0.150716</td>\n",
       "      <td>...</td>\n",
       "      <td>-0.190203</td>\n",
       "      <td>-0.052280</td>\n",
       "      <td>0.271154</td>\n",
       "      <td>0.480227</td>\n",
       "      <td>1.471382</td>\n",
       "      <td>1.196333</td>\n",
       "      <td>-0.543250</td>\n",
       "      <td>-1.797030</td>\n",
       "      <td>0.880623</td>\n",
       "      <td>-0.944331</td>\n",
       "    </tr>\n",
       "    <tr>\n",
       "      <th>3</th>\n",
       "      <td>-1.729797</td>\n",
       "      <td>-0.639873</td>\n",
       "      <td>0.145935</td>\n",
       "      <td>-0.676281</td>\n",
       "      <td>-0.294604</td>\n",
       "      <td>-0.447105</td>\n",
       "      <td>-1.443005</td>\n",
       "      <td>0.219178</td>\n",
       "      <td>-0.021785</td>\n",
       "      <td>-0.282743</td>\n",
       "      <td>...</td>\n",
       "      <td>-0.240556</td>\n",
       "      <td>1.257769</td>\n",
       "      <td>-1.271715</td>\n",
       "      <td>0.150072</td>\n",
       "      <td>0.662781</td>\n",
       "      <td>0.762751</td>\n",
       "      <td>0.230514</td>\n",
       "      <td>0.342159</td>\n",
       "      <td>0.470614</td>\n",
       "      <td>0.135640</td>\n",
       "    </tr>\n",
       "    <tr>\n",
       "      <th>4</th>\n",
       "      <td>-1.729153</td>\n",
       "      <td>-0.299226</td>\n",
       "      <td>-0.891836</td>\n",
       "      <td>1.352899</td>\n",
       "      <td>-0.261818</td>\n",
       "      <td>-0.852600</td>\n",
       "      <td>-0.267221</td>\n",
       "      <td>-0.592556</td>\n",
       "      <td>-0.884625</td>\n",
       "      <td>-0.275005</td>\n",
       "      <td>...</td>\n",
       "      <td>1.782200</td>\n",
       "      <td>-0.230312</td>\n",
       "      <td>2.062528</td>\n",
       "      <td>-0.431987</td>\n",
       "      <td>1.347628</td>\n",
       "      <td>0.402258</td>\n",
       "      <td>-1.541744</td>\n",
       "      <td>0.961216</td>\n",
       "      <td>-0.405204</td>\n",
       "      <td>-1.544741</td>\n",
       "    </tr>\n",
       "    <tr>\n",
       "      <th>...</th>\n",
       "      <td>...</td>\n",
       "      <td>...</td>\n",
       "      <td>...</td>\n",
       "      <td>...</td>\n",
       "      <td>...</td>\n",
       "      <td>...</td>\n",
       "      <td>...</td>\n",
       "      <td>...</td>\n",
       "      <td>...</td>\n",
       "      <td>...</td>\n",
       "      <td>...</td>\n",
       "      <td>...</td>\n",
       "      <td>...</td>\n",
       "      <td>...</td>\n",
       "      <td>...</td>\n",
       "      <td>...</td>\n",
       "      <td>...</td>\n",
       "      <td>...</td>\n",
       "      <td>...</td>\n",
       "      <td>...</td>\n",
       "      <td>...</td>\n",
       "    </tr>\n",
       "    <tr>\n",
       "      <th>5375</th>\n",
       "      <td>1.729153</td>\n",
       "      <td>-0.811236</td>\n",
       "      <td>0.872754</td>\n",
       "      <td>0.387205</td>\n",
       "      <td>-0.282309</td>\n",
       "      <td>-1.070487</td>\n",
       "      <td>0.964553</td>\n",
       "      <td>-0.179294</td>\n",
       "      <td>0.701509</td>\n",
       "      <td>-0.288272</td>\n",
       "      <td>...</td>\n",
       "      <td>0.344991</td>\n",
       "      <td>-0.527333</td>\n",
       "      <td>0.500919</td>\n",
       "      <td>-1.021350</td>\n",
       "      <td>-1.252521</td>\n",
       "      <td>-0.202212</td>\n",
       "      <td>-1.444496</td>\n",
       "      <td>-1.273921</td>\n",
       "      <td>-1.163294</td>\n",
       "      <td>-0.405767</td>\n",
       "    </tr>\n",
       "    <tr>\n",
       "      <th>5376</th>\n",
       "      <td>1.729797</td>\n",
       "      <td>0.893357</td>\n",
       "      <td>0.620776</td>\n",
       "      <td>0.668357</td>\n",
       "      <td>-0.212638</td>\n",
       "      <td>0.061688</td>\n",
       "      <td>0.236687</td>\n",
       "      <td>-0.265555</td>\n",
       "      <td>0.571452</td>\n",
       "      <td>-0.273831</td>\n",
       "      <td>...</td>\n",
       "      <td>-0.654771</td>\n",
       "      <td>0.379921</td>\n",
       "      <td>-1.569201</td>\n",
       "      <td>1.439617</td>\n",
       "      <td>0.517010</td>\n",
       "      <td>-1.555055</td>\n",
       "      <td>-0.767590</td>\n",
       "      <td>0.369824</td>\n",
       "      <td>-0.762460</td>\n",
       "      <td>0.915443</td>\n",
       "    </tr>\n",
       "    <tr>\n",
       "      <th>5377</th>\n",
       "      <td>1.730441</td>\n",
       "      <td>-0.368885</td>\n",
       "      <td>0.746220</td>\n",
       "      <td>-0.065082</td>\n",
       "      <td>-0.257719</td>\n",
       "      <td>0.472798</td>\n",
       "      <td>0.516635</td>\n",
       "      <td>-0.374215</td>\n",
       "      <td>0.252689</td>\n",
       "      <td>-0.222228</td>\n",
       "      <td>...</td>\n",
       "      <td>-0.423307</td>\n",
       "      <td>1.751722</td>\n",
       "      <td>0.010549</td>\n",
       "      <td>0.480817</td>\n",
       "      <td>-1.149284</td>\n",
       "      <td>0.077780</td>\n",
       "      <td>0.147306</td>\n",
       "      <td>-1.903969</td>\n",
       "      <td>0.416462</td>\n",
       "      <td>-0.162161</td>\n",
       "    </tr>\n",
       "    <tr>\n",
       "      <th>5378</th>\n",
       "      <td>1.731085</td>\n",
       "      <td>-0.052157</td>\n",
       "      <td>-0.713373</td>\n",
       "      <td>1.695171</td>\n",
       "      <td>-0.257719</td>\n",
       "      <td>-0.892355</td>\n",
       "      <td>0.180697</td>\n",
       "      <td>-0.595953</td>\n",
       "      <td>-0.742034</td>\n",
       "      <td>-0.278881</td>\n",
       "      <td>...</td>\n",
       "      <td>-0.451310</td>\n",
       "      <td>0.955744</td>\n",
       "      <td>0.093256</td>\n",
       "      <td>-0.558246</td>\n",
       "      <td>0.329794</td>\n",
       "      <td>-1.201309</td>\n",
       "      <td>0.364055</td>\n",
       "      <td>-0.622458</td>\n",
       "      <td>-0.774547</td>\n",
       "      <td>-1.064202</td>\n",
       "    </tr>\n",
       "    <tr>\n",
       "      <th>5379</th>\n",
       "      <td>1.731729</td>\n",
       "      <td>-0.810772</td>\n",
       "      <td>-0.913108</td>\n",
       "      <td>-0.321786</td>\n",
       "      <td>-0.310997</td>\n",
       "      <td>-0.889237</td>\n",
       "      <td>-1.443005</td>\n",
       "      <td>-0.552803</td>\n",
       "      <td>-0.916928</td>\n",
       "      <td>-0.291209</td>\n",
       "      <td>...</td>\n",
       "      <td>-1.144173</td>\n",
       "      <td>0.991445</td>\n",
       "      <td>-0.752772</td>\n",
       "      <td>-1.379584</td>\n",
       "      <td>-0.259575</td>\n",
       "      <td>1.109123</td>\n",
       "      <td>1.352202</td>\n",
       "      <td>-1.007876</td>\n",
       "      <td>-1.929983</td>\n",
       "      <td>1.056427</td>\n",
       "    </tr>\n",
       "  </tbody>\n",
       "</table>\n",
       "<p>5380 rows × 1432 columns</p>\n",
       "</div>\n",
       "      <button class=\"colab-df-convert\" onclick=\"convertToInteractive('df-75c7d1ef-d0fd-48d7-bdad-d15e4da2e155')\"\n",
       "              title=\"Convert this dataframe to an interactive table.\"\n",
       "              style=\"display:none;\">\n",
       "        \n",
       "  <svg xmlns=\"http://www.w3.org/2000/svg\" height=\"24px\"viewBox=\"0 0 24 24\"\n",
       "       width=\"24px\">\n",
       "    <path d=\"M0 0h24v24H0V0z\" fill=\"none\"/>\n",
       "    <path d=\"M18.56 5.44l.94 2.06.94-2.06 2.06-.94-2.06-.94-.94-2.06-.94 2.06-2.06.94zm-11 1L8.5 8.5l.94-2.06 2.06-.94-2.06-.94L8.5 2.5l-.94 2.06-2.06.94zm10 10l.94 2.06.94-2.06 2.06-.94-2.06-.94-.94-2.06-.94 2.06-2.06.94z\"/><path d=\"M17.41 7.96l-1.37-1.37c-.4-.4-.92-.59-1.43-.59-.52 0-1.04.2-1.43.59L10.3 9.45l-7.72 7.72c-.78.78-.78 2.05 0 2.83L4 21.41c.39.39.9.59 1.41.59.51 0 1.02-.2 1.41-.59l7.78-7.78 2.81-2.81c.8-.78.8-2.07 0-2.86zM5.41 20L4 18.59l7.72-7.72 1.47 1.35L5.41 20z\"/>\n",
       "  </svg>\n",
       "      </button>\n",
       "      \n",
       "  <style>\n",
       "    .colab-df-container {\n",
       "      display:flex;\n",
       "      flex-wrap:wrap;\n",
       "      gap: 12px;\n",
       "    }\n",
       "\n",
       "    .colab-df-convert {\n",
       "      background-color: #E8F0FE;\n",
       "      border: none;\n",
       "      border-radius: 50%;\n",
       "      cursor: pointer;\n",
       "      display: none;\n",
       "      fill: #1967D2;\n",
       "      height: 32px;\n",
       "      padding: 0 0 0 0;\n",
       "      width: 32px;\n",
       "    }\n",
       "\n",
       "    .colab-df-convert:hover {\n",
       "      background-color: #E2EBFA;\n",
       "      box-shadow: 0px 1px 2px rgba(60, 64, 67, 0.3), 0px 1px 3px 1px rgba(60, 64, 67, 0.15);\n",
       "      fill: #174EA6;\n",
       "    }\n",
       "\n",
       "    [theme=dark] .colab-df-convert {\n",
       "      background-color: #3B4455;\n",
       "      fill: #D2E3FC;\n",
       "    }\n",
       "\n",
       "    [theme=dark] .colab-df-convert:hover {\n",
       "      background-color: #434B5C;\n",
       "      box-shadow: 0px 1px 3px 1px rgba(0, 0, 0, 0.15);\n",
       "      filter: drop-shadow(0px 1px 2px rgba(0, 0, 0, 0.3));\n",
       "      fill: #FFFFFF;\n",
       "    }\n",
       "  </style>\n",
       "\n",
       "      <script>\n",
       "        const buttonEl =\n",
       "          document.querySelector('#df-75c7d1ef-d0fd-48d7-bdad-d15e4da2e155 button.colab-df-convert');\n",
       "        buttonEl.style.display =\n",
       "          google.colab.kernel.accessAllowed ? 'block' : 'none';\n",
       "\n",
       "        async function convertToInteractive(key) {\n",
       "          const element = document.querySelector('#df-75c7d1ef-d0fd-48d7-bdad-d15e4da2e155');\n",
       "          const dataTable =\n",
       "            await google.colab.kernel.invokeFunction('convertToInteractive',\n",
       "                                                     [key], {});\n",
       "          if (!dataTable) return;\n",
       "\n",
       "          const docLinkHtml = 'Like what you see? Visit the ' +\n",
       "            '<a target=\"_blank\" href=https://colab.research.google.com/notebooks/data_table.ipynb>data table notebook</a>'\n",
       "            + ' to learn more about interactive tables.';\n",
       "          element.innerHTML = '';\n",
       "          dataTable['output_type'] = 'display_data';\n",
       "          await google.colab.output.renderOutput(dataTable, element);\n",
       "          const docLink = document.createElement('div');\n",
       "          docLink.innerHTML = docLinkHtml;\n",
       "          element.appendChild(docLink);\n",
       "        }\n",
       "      </script>\n",
       "    </div>\n",
       "  </div>\n",
       "  "
      ],
      "text/plain": [
       "             0         1         2         3         4         5         6  \\\n",
       "0    -1.731729  0.970650 -0.607871  1.646275  0.000475  1.290638  0.292676   \n",
       "1    -1.731085 -0.823592 -0.024523 -1.275256 -0.298702 -0.712843 -1.443005   \n",
       "2    -1.730441 -0.269384 -0.860578 -0.786297 -0.302801 -0.269982 -1.443005   \n",
       "3    -1.729797 -0.639873  0.145935 -0.676281 -0.294604 -0.447105 -1.443005   \n",
       "4    -1.729153 -0.299226 -0.891836  1.352899 -0.261818 -0.852600 -0.267221   \n",
       "...        ...       ...       ...       ...       ...       ...       ...   \n",
       "5375  1.729153 -0.811236  0.872754  0.387205 -0.282309 -1.070487  0.964553   \n",
       "5376  1.729797  0.893357  0.620776  0.668357 -0.212638  0.061688  0.236687   \n",
       "5377  1.730441 -0.368885  0.746220 -0.065082 -0.257719  0.472798  0.516635   \n",
       "5378  1.731085 -0.052157 -0.713373  1.695171 -0.257719 -0.892355  0.180697   \n",
       "5379  1.731729 -0.810772 -0.913108 -0.321786 -0.310997 -0.889237 -1.443005   \n",
       "\n",
       "             7         8         9  ...  random706  random707  random708  \\\n",
       "0    -0.579861 -0.612177 -0.278328  ...  -1.350809  -0.444715  -0.617309   \n",
       "1     0.958220 -0.101120  0.742470  ...   0.566180  -1.077653   0.953611   \n",
       "2    -0.512824 -0.942933 -0.150716  ...  -0.190203  -0.052280   0.271154   \n",
       "3     0.219178 -0.021785 -0.282743  ...  -0.240556   1.257769  -1.271715   \n",
       "4    -0.592556 -0.884625 -0.275005  ...   1.782200  -0.230312   2.062528   \n",
       "...        ...       ...       ...  ...        ...        ...        ...   \n",
       "5375 -0.179294  0.701509 -0.288272  ...   0.344991  -0.527333   0.500919   \n",
       "5376 -0.265555  0.571452 -0.273831  ...  -0.654771   0.379921  -1.569201   \n",
       "5377 -0.374215  0.252689 -0.222228  ...  -0.423307   1.751722   0.010549   \n",
       "5378 -0.595953 -0.742034 -0.278881  ...  -0.451310   0.955744   0.093256   \n",
       "5379 -0.552803 -0.916928 -0.291209  ...  -1.144173   0.991445  -0.752772   \n",
       "\n",
       "      random709  random710  random711  random712  random713  random714  \\\n",
       "0      2.260477   0.817205  -0.921166   0.352251   1.115675  -0.144248   \n",
       "1     -1.257498  -0.159406   1.578460  -0.408644  -0.311205   0.174422   \n",
       "2      0.480227   1.471382   1.196333  -0.543250  -1.797030   0.880623   \n",
       "3      0.150072   0.662781   0.762751   0.230514   0.342159   0.470614   \n",
       "4     -0.431987   1.347628   0.402258  -1.541744   0.961216  -0.405204   \n",
       "...         ...        ...        ...        ...        ...        ...   \n",
       "5375  -1.021350  -1.252521  -0.202212  -1.444496  -1.273921  -1.163294   \n",
       "5376   1.439617   0.517010  -1.555055  -0.767590   0.369824  -0.762460   \n",
       "5377   0.480817  -1.149284   0.077780   0.147306  -1.903969   0.416462   \n",
       "5378  -0.558246   0.329794  -1.201309   0.364055  -0.622458  -0.774547   \n",
       "5379  -1.379584  -0.259575   1.109123   1.352202  -1.007876  -1.929983   \n",
       "\n",
       "      random715  \n",
       "0     -0.924522  \n",
       "1      1.412041  \n",
       "2     -0.944331  \n",
       "3      0.135640  \n",
       "4     -1.544741  \n",
       "...         ...  \n",
       "5375  -0.405767  \n",
       "5376   0.915443  \n",
       "5377  -0.162161  \n",
       "5378  -1.064202  \n",
       "5379   1.056427  \n",
       "\n",
       "[5380 rows x 1432 columns]"
      ]
     },
     "execution_count": 70,
     "metadata": {},
     "output_type": "execute_result"
    }
   ],
   "source": [
    "#Feature Selection\n",
    "np.warnings.filterwarnings('ignore')\n",
    "\n",
    "#Set random columns to assist search for non-important columns\n",
    "from numpy import random\n",
    "random.seed(seed=0)\n",
    "for i in range(X.shape[1]):\n",
    "  random = pd.Series(np.random.randn(X.shape[0]))\n",
    "  X[f'random{i}'] = random\n",
    "\n",
    "X"
   ]
  },
  {
   "cell_type": "code",
   "execution_count": 71,
   "metadata": {
    "id": "w3edovOKvrIw"
   },
   "outputs": [],
   "source": [
    "from sklearn.model_selection import KFold, GridSearchCV\n",
    "from sklearn.ensemble import RandomForestRegressor\n",
    "\n",
    "X.columns = X.columns.astype(str)\n",
    "rf = RandomForestRegressor().fit(X,y)"
   ]
  },
  {
   "cell_type": "code",
   "execution_count": 72,
   "metadata": {
    "colab": {
     "base_uri": "https://localhost:8080/"
    },
    "id": "MKFmBXy838tI",
    "outputId": "9f9962fa-89fa-4779-ed85-57929d0fbcc1"
   },
   "outputs": [
    {
     "data": {
      "text/plain": [
       "0.0009331991623544296"
      ]
     },
     "execution_count": 72,
     "metadata": {},
     "output_type": "execute_result"
    }
   ],
   "source": [
    "imp = rf.feature_importances_\n",
    "importances = pd.DataFrame({'feature':X.columns, 'importance':imp})\n",
    "\n",
    "random_imp = importances.loc[range(717, 1432), 'importance'].max()\n",
    "random_imp"
   ]
  },
  {
   "cell_type": "code",
   "execution_count": 73,
   "metadata": {
    "id": "2LZMLaYv7JiY"
   },
   "outputs": [],
   "source": [
    "selected_predictors = importances[importances['importance'] > random_imp]['feature'].astype(str).tolist()\n",
    "\n",
    "#Down to 62 predictors after importance selection\n",
    "X = X.loc[:,selected_predictors]"
   ]
  },
  {
   "cell_type": "code",
   "execution_count": 28,
   "metadata": {
    "colab": {
     "base_uri": "https://localhost:8080/"
    },
    "id": "2OkzJNf3xaj1",
    "outputId": "11b33751-b3c2-405d-dfb7-baebd1bf2d88"
   },
   "outputs": [
    {
     "name": "stdout",
     "output_type": "stream",
     "text": [
      "Fitting 5 folds for each of 36 candidates, totalling 180 fits\n",
      "Best Parameters :  {'bootstrap': True, 'max_depth': 25, 'max_features': 0.8, 'max_leaf_nodes': 500}\n"
     ]
    }
   ],
   "source": [
    "# Tuned RandomForest\n",
    "params = {'max_depth':[20, 25, 30],\n",
    "          'max_leaf_nodes':[450, 500, 550],\n",
    "          'bootstrap': [True],\n",
    "         'max_features': [0.7, 0.8, 0.9, 1]}\n",
    "\n",
    "cv = KFold(n_splits=5,shuffle=True,random_state=1)\n",
    "\n",
    "rf = GridSearchCV(RandomForestRegressor(random_state=1, n_jobs=-1, bootstrap=True, n_estimators=100), \n",
    "                                      param_grid =params, cv=cv, n_jobs=-1, verbose=1, scoring = 'neg_mean_squared_error')\n",
    "\n",
    "rf.fit(X, y)\n",
    "\n",
    "print('Best Parameters : ',rf.best_params_)"
   ]
  },
  {
   "cell_type": "code",
   "execution_count": 74,
   "metadata": {
    "colab": {
     "base_uri": "https://localhost:8080/"
    },
    "id": "mflRx3zGDJ_u",
    "outputId": "3aa14f4e-1bee-41db-c2a2-6d994e07617e"
   },
   "outputs": [
    {
     "data": {
      "text/plain": [
       "6.691244510862965"
      ]
     },
     "execution_count": 74,
     "metadata": {},
     "output_type": "execute_result"
    }
   ],
   "source": [
    "tuned_rf = RandomForestRegressor(random_state=1, n_jobs=-1, bootstrap=True, n_estimators=100,\n",
    "                                 max_depth= 25, max_features= 0.8, max_leaf_nodes= 500).fit(X,y)\n",
    "np.sqrt(mean_squared_error(np.exp(y), np.exp(tuned_rf.predict(X))))\n"
   ]
  },
  {
   "cell_type": "code",
   "execution_count": 31,
   "metadata": {
    "id": "tmbNUsXlMUtR"
   },
   "outputs": [],
   "source": [
    "# Lasso\n",
    "np.warnings.filterwarnings('ignore')\n",
    "\n",
    "score = pd.DataFrame(columns=['a', 'rmse'])\n",
    "for a in np.arange(0.001, 0.2, 0.001):\n",
    "    lasso = Lasso(alpha=a)\n",
    "    lasso.fit(X, y)\n",
    "    \n",
    "    score = score.append(pd.DataFrame({'alpha':a, 'rmse':-cross_val_score(lasso, X, y, cv=5, scoring='neg_mean_squared_error').mean()}, index=[0]))\n"
   ]
  },
  {
   "cell_type": "code",
   "execution_count": 32,
   "metadata": {
    "colab": {
     "base_uri": "https://localhost:8080/"
    },
    "id": "WpBP19iRhhGc",
    "outputId": "4b3a9382-c392-4660-bb41-8124ca0ad4b0"
   },
   "outputs": [
    {
     "data": {
      "text/plain": [
       "a             NaN\n",
       "rmse     0.505964\n",
       "alpha       0.006\n",
       "Name: 5, dtype: object"
      ]
     },
     "execution_count": 32,
     "metadata": {},
     "output_type": "execute_result"
    }
   ],
   "source": [
    "score.reset_index(drop=True).loc[score['rmse'].argmin()]"
   ]
  },
  {
   "cell_type": "code",
   "execution_count": 75,
   "metadata": {
    "colab": {
     "base_uri": "https://localhost:8080/"
    },
    "id": "D-zgQtKrhoKN",
    "outputId": "f58c39a6-55ef-439f-b456-33517332ed44"
   },
   "outputs": [
    {
     "data": {
      "text/plain": [
       "10.682026010554948"
      ]
     },
     "execution_count": 75,
     "metadata": {},
     "output_type": "execute_result"
    }
   ],
   "source": [
    "lasso = Lasso(alpha=0.06).fit(X,y)\n",
    "#0.05 old one\n",
    "np.sqrt(mean_squared_error(np.exp(y), np.exp(lasso.predict(X))))\n"
   ]
  },
  {
   "cell_type": "code",
   "execution_count": 34,
   "metadata": {
    "colab": {
     "base_uri": "https://localhost:8080/"
    },
    "id": "UTc3Zhw5xBda",
    "outputId": "78828cc5-69d2-44c7-f4b8-839bc1d01664"
   },
   "outputs": [
    {
     "name": "stdout",
     "output_type": "stream",
     "text": [
      "Fitting 5 folds for each of 100 candidates, totalling 500 fits\n",
      "Optimal parameter values = {'subsample': 0.5, 'reg_lambda': 1, 'n_estimators': 500, 'max_depth': 4, 'learning_rate': 0.05, 'gamma': 0, 'colsample_bytree': 1.0}\n",
      "Optimal cross validation R-squared =  -0.4822806336503399\n"
     ]
    }
   ],
   "source": [
    "# XGBoost\n",
    "param_grid = {'max_depth': [4,6,8],\n",
    "              'learning_rate': [0.01, 0.05, 0.1],\n",
    "               'reg_lambda':[0, 1, 10],\n",
    "                'n_estimators':[100, 500, 1000],\n",
    "                'gamma': [0, 10, 100],\n",
    "                'subsample': [0.5, 0.75, 1.0],\n",
    "                'colsample_bytree': [0.5, 0.75, 1.0]}\n",
    "\n",
    "cv = KFold(n_splits=5,shuffle=True,random_state=1)\n",
    "optimal_params = RandomizedSearchCV(estimator=xgb.XGBRegressor(random_state=1),                                                       \n",
    "                             param_distributions = param_grid,\n",
    "                             n_iter=100,\n",
    "                             verbose = 1,\n",
    "                             n_jobs=-1,\n",
    "                             cv = cv,\n",
    "                             scoring = 'neg_mean_squared_error')\n",
    "optimal_params.fit(X,y)\n",
    "print(\"Optimal parameter values =\", optimal_params.best_params_)\n",
    "print(\"Optimal cross validation R-squared = \",optimal_params.best_score_)"
   ]
  },
  {
   "cell_type": "code",
   "execution_count": 76,
   "metadata": {
    "colab": {
     "base_uri": "https://localhost:8080/"
    },
    "id": "6e1N5XCsL1KR",
    "outputId": "8dc346c4-819a-4689-a0d2-280e8d4736aa"
   },
   "outputs": [
    {
     "data": {
      "text/plain": [
       "6.093963975754468"
      ]
     },
     "execution_count": 76,
     "metadata": {},
     "output_type": "execute_result"
    }
   ],
   "source": [
    "xg = xgb.XGBRegressor(random_state=1, subsample= 0.5, reg_lambda= 1, n_estimators= 500, \n",
    "                       max_depth= 4, learning_rate= 0.05, gamma= 0, colsample_bytree= 1.0).fit(X,y)\n",
    "np.sqrt(mean_squared_error(np.exp(y), np.exp(xg.predict(X))))"
   ]
  },
  {
   "cell_type": "code",
   "execution_count": 36,
   "metadata": {
    "colab": {
     "base_uri": "https://localhost:8080/",
     "height": 132
    },
    "id": "G9tjMuEzxmEi",
    "outputId": "93c44b2d-ca40-401b-99f3-9e06d253b84f"
   },
   "outputs": [
    {
     "name": "stdout",
     "output_type": "stream",
     "text": [
      "Fitting 5 folds for each of 100 candidates, totalling 500 fits\n"
     ]
    },
    {
     "data": {
      "text/html": [
       "<style>#sk-container-id-1 {color: black;background-color: white;}#sk-container-id-1 pre{padding: 0;}#sk-container-id-1 div.sk-toggleable {background-color: white;}#sk-container-id-1 label.sk-toggleable__label {cursor: pointer;display: block;width: 100%;margin-bottom: 0;padding: 0.3em;box-sizing: border-box;text-align: center;}#sk-container-id-1 label.sk-toggleable__label-arrow:before {content: \"▸\";float: left;margin-right: 0.25em;color: #696969;}#sk-container-id-1 label.sk-toggleable__label-arrow:hover:before {color: black;}#sk-container-id-1 div.sk-estimator:hover label.sk-toggleable__label-arrow:before {color: black;}#sk-container-id-1 div.sk-toggleable__content {max-height: 0;max-width: 0;overflow: hidden;text-align: left;background-color: #f0f8ff;}#sk-container-id-1 div.sk-toggleable__content pre {margin: 0.2em;color: black;border-radius: 0.25em;background-color: #f0f8ff;}#sk-container-id-1 input.sk-toggleable__control:checked~div.sk-toggleable__content {max-height: 200px;max-width: 100%;overflow: auto;}#sk-container-id-1 input.sk-toggleable__control:checked~label.sk-toggleable__label-arrow:before {content: \"▾\";}#sk-container-id-1 div.sk-estimator input.sk-toggleable__control:checked~label.sk-toggleable__label {background-color: #d4ebff;}#sk-container-id-1 div.sk-label input.sk-toggleable__control:checked~label.sk-toggleable__label {background-color: #d4ebff;}#sk-container-id-1 input.sk-hidden--visually {border: 0;clip: rect(1px 1px 1px 1px);clip: rect(1px, 1px, 1px, 1px);height: 1px;margin: -1px;overflow: hidden;padding: 0;position: absolute;width: 1px;}#sk-container-id-1 div.sk-estimator {font-family: monospace;background-color: #f0f8ff;border: 1px dotted black;border-radius: 0.25em;box-sizing: border-box;margin-bottom: 0.5em;}#sk-container-id-1 div.sk-estimator:hover {background-color: #d4ebff;}#sk-container-id-1 div.sk-parallel-item::after {content: \"\";width: 100%;border-bottom: 1px solid gray;flex-grow: 1;}#sk-container-id-1 div.sk-label:hover label.sk-toggleable__label {background-color: #d4ebff;}#sk-container-id-1 div.sk-serial::before {content: \"\";position: absolute;border-left: 1px solid gray;box-sizing: border-box;top: 0;bottom: 0;left: 50%;z-index: 0;}#sk-container-id-1 div.sk-serial {display: flex;flex-direction: column;align-items: center;background-color: white;padding-right: 0.2em;padding-left: 0.2em;position: relative;}#sk-container-id-1 div.sk-item {position: relative;z-index: 1;}#sk-container-id-1 div.sk-parallel {display: flex;align-items: stretch;justify-content: center;background-color: white;position: relative;}#sk-container-id-1 div.sk-item::before, #sk-container-id-1 div.sk-parallel-item::before {content: \"\";position: absolute;border-left: 1px solid gray;box-sizing: border-box;top: 0;bottom: 0;left: 50%;z-index: -1;}#sk-container-id-1 div.sk-parallel-item {display: flex;flex-direction: column;z-index: 1;position: relative;background-color: white;}#sk-container-id-1 div.sk-parallel-item:first-child::after {align-self: flex-end;width: 50%;}#sk-container-id-1 div.sk-parallel-item:last-child::after {align-self: flex-start;width: 50%;}#sk-container-id-1 div.sk-parallel-item:only-child::after {width: 0;}#sk-container-id-1 div.sk-dashed-wrapped {border: 1px dashed gray;margin: 0 0.4em 0.5em 0.4em;box-sizing: border-box;padding-bottom: 0.4em;background-color: white;}#sk-container-id-1 div.sk-label label {font-family: monospace;font-weight: bold;display: inline-block;line-height: 1.2em;}#sk-container-id-1 div.sk-label-container {text-align: center;}#sk-container-id-1 div.sk-container {/* jupyter's `normalize.less` sets `[hidden] { display: none; }` but bootstrap.min.css set `[hidden] { display: none !important; }` so we also need the `!important` here to be able to override the default hidden behavior on the sphinx rendered scikit-learn.org. See: https://github.com/scikit-learn/scikit-learn/issues/21755 */display: inline-block !important;position: relative;}#sk-container-id-1 div.sk-text-repr-fallback {display: none;}</style><div id=\"sk-container-id-1\" class=\"sk-top-container\"><div class=\"sk-text-repr-fallback\"><pre>RandomizedSearchCV(cv=KFold(n_splits=5, random_state=1, shuffle=True),\n",
       "                   estimator=&lt;catboost.core.CatBoostRegressor object at 0x7fb989584850&gt;,\n",
       "                   n_iter=100, n_jobs=-1,\n",
       "                   param_distributions={&#x27;learning_rate&#x27;: [0.01, 0.05, 0.1],\n",
       "                                        &#x27;max_depth&#x27;: [4, 6, 8],\n",
       "                                        &#x27;n_estimators&#x27;: [100, 500, 1000],\n",
       "                                        &#x27;num_leaves&#x27;: [20, 31, 40],\n",
       "                                        &#x27;reg_lambda&#x27;: [0, 10, 100],\n",
       "                                        &#x27;subsample&#x27;: [0.5, 0.75, 1.0]},\n",
       "                   random_state=1, verbose=1)</pre><b>In a Jupyter environment, please rerun this cell to show the HTML representation or trust the notebook. <br />On GitHub, the HTML representation is unable to render, please try loading this page with nbviewer.org.</b></div><div class=\"sk-container\" hidden><div class=\"sk-item sk-dashed-wrapped\"><div class=\"sk-label-container\"><div class=\"sk-label sk-toggleable\"><input class=\"sk-toggleable__control sk-hidden--visually\" id=\"sk-estimator-id-1\" type=\"checkbox\" ><label for=\"sk-estimator-id-1\" class=\"sk-toggleable__label sk-toggleable__label-arrow\">RandomizedSearchCV</label><div class=\"sk-toggleable__content\"><pre>RandomizedSearchCV(cv=KFold(n_splits=5, random_state=1, shuffle=True),\n",
       "                   estimator=&lt;catboost.core.CatBoostRegressor object at 0x7fb989584850&gt;,\n",
       "                   n_iter=100, n_jobs=-1,\n",
       "                   param_distributions={&#x27;learning_rate&#x27;: [0.01, 0.05, 0.1],\n",
       "                                        &#x27;max_depth&#x27;: [4, 6, 8],\n",
       "                                        &#x27;n_estimators&#x27;: [100, 500, 1000],\n",
       "                                        &#x27;num_leaves&#x27;: [20, 31, 40],\n",
       "                                        &#x27;reg_lambda&#x27;: [0, 10, 100],\n",
       "                                        &#x27;subsample&#x27;: [0.5, 0.75, 1.0]},\n",
       "                   random_state=1, verbose=1)</pre></div></div></div><div class=\"sk-parallel\"><div class=\"sk-parallel-item\"><div class=\"sk-item\"><div class=\"sk-label-container\"><div class=\"sk-label sk-toggleable\"><input class=\"sk-toggleable__control sk-hidden--visually\" id=\"sk-estimator-id-2\" type=\"checkbox\" ><label for=\"sk-estimator-id-2\" class=\"sk-toggleable__label sk-toggleable__label-arrow\">estimator: CatBoostRegressor</label><div class=\"sk-toggleable__content\"><pre>&lt;catboost.core.CatBoostRegressor object at 0x7fb989584850&gt;</pre></div></div></div><div class=\"sk-serial\"><div class=\"sk-item\"><div class=\"sk-estimator sk-toggleable\"><input class=\"sk-toggleable__control sk-hidden--visually\" id=\"sk-estimator-id-3\" type=\"checkbox\" ><label for=\"sk-estimator-id-3\" class=\"sk-toggleable__label sk-toggleable__label-arrow\">CatBoostRegressor</label><div class=\"sk-toggleable__content\"><pre>&lt;catboost.core.CatBoostRegressor object at 0x7fb989584850&gt;</pre></div></div></div></div></div></div></div></div></div></div>"
      ],
      "text/plain": [
       "RandomizedSearchCV(cv=KFold(n_splits=5, random_state=1, shuffle=True),\n",
       "                   estimator=<catboost.core.CatBoostRegressor object at 0x7fb989584850>,\n",
       "                   n_iter=100, n_jobs=-1,\n",
       "                   param_distributions={'learning_rate': [0.01, 0.05, 0.1],\n",
       "                                        'max_depth': [4, 6, 8],\n",
       "                                        'n_estimators': [100, 500, 1000],\n",
       "                                        'num_leaves': [20, 31, 40],\n",
       "                                        'reg_lambda': [0, 10, 100],\n",
       "                                        'subsample': [0.5, 0.75, 1.0]},\n",
       "                   random_state=1, verbose=1)"
      ]
     },
     "execution_count": 36,
     "metadata": {},
     "output_type": "execute_result"
    }
   ],
   "source": [
    "# CatBoost\n",
    "\n",
    "param_grid = {'max_depth': [4,6,8],\n",
    "              'num_leaves': [20, 31, 40],\n",
    "              'learning_rate': [0.01, 0.05, 0.1],\n",
    "               'reg_lambda':[0, 10, 100],\n",
    "                'n_estimators':[100, 500, 1000],\n",
    "                'subsample': [0.5, 0.75, 1.0]}\n",
    "\n",
    "cv = KFold(n_splits=5,shuffle=True,random_state=1)\n",
    "optimal_params = RandomizedSearchCV(estimator=CatBoostRegressor(random_state=1, verbose=False),                                                       \n",
    "                             param_distributions = param_grid, n_iter = 100,\n",
    "                             verbose = 1,random_state = 1,\n",
    "                             n_jobs=-1,\n",
    "                             cv = cv)\n",
    "optimal_params.fit(X,y)\n",
    "\n",
    "np.sqrt(mean_squared_error(np.exp(y), np.exp(model_cat.predict(X))))"
   ]
  },
  {
   "cell_type": "code",
   "execution_count": 77,
   "metadata": {
    "colab": {
     "base_uri": "https://localhost:8080/"
    },
    "id": "ZgNtl8MGKU7D",
    "outputId": "c0aea5a3-1aa6-45d8-b3df-31ed82dadf1c"
   },
   "outputs": [
    {
     "name": "stdout",
     "output_type": "stream",
     "text": [
      "{'subsample': 0.75, 'reg_lambda': 10, 'num_leaves': 31, 'n_estimators': 1000, 'max_depth': 4, 'learning_rate': 0.1}\n"
     ]
    },
    {
     "data": {
      "text/plain": [
       "6.142781416636383"
      ]
     },
     "execution_count": 77,
     "metadata": {},
     "output_type": "execute_result"
    }
   ],
   "source": [
    "model_cat = CatBoostRegressor(random_state=1, verbose=False, subsample=0.75, reg_lambda=10, num_leaves=31,\n",
    "                              n_estimators=1000, max_depth=4, learning_rate=0.1).fit(X,y)\n",
    "np.sqrt(mean_squared_error(np.exp(y), np.exp(model_cat.predict(X))))\n"
   ]
  },
  {
   "cell_type": "code",
   "execution_count": 78,
   "metadata": {
    "colab": {
     "base_uri": "https://localhost:8080/",
     "height": 160
    },
    "id": "hurG7gLw4COA",
    "outputId": "858b019f-7330-4ee5-8975-6d1ff5cdf4e7"
   },
   "outputs": [
    {
     "data": {
      "text/html": [
       "<style>#sk-container-id-6 {color: black;background-color: white;}#sk-container-id-6 pre{padding: 0;}#sk-container-id-6 div.sk-toggleable {background-color: white;}#sk-container-id-6 label.sk-toggleable__label {cursor: pointer;display: block;width: 100%;margin-bottom: 0;padding: 0.3em;box-sizing: border-box;text-align: center;}#sk-container-id-6 label.sk-toggleable__label-arrow:before {content: \"▸\";float: left;margin-right: 0.25em;color: #696969;}#sk-container-id-6 label.sk-toggleable__label-arrow:hover:before {color: black;}#sk-container-id-6 div.sk-estimator:hover label.sk-toggleable__label-arrow:before {color: black;}#sk-container-id-6 div.sk-toggleable__content {max-height: 0;max-width: 0;overflow: hidden;text-align: left;background-color: #f0f8ff;}#sk-container-id-6 div.sk-toggleable__content pre {margin: 0.2em;color: black;border-radius: 0.25em;background-color: #f0f8ff;}#sk-container-id-6 input.sk-toggleable__control:checked~div.sk-toggleable__content {max-height: 200px;max-width: 100%;overflow: auto;}#sk-container-id-6 input.sk-toggleable__control:checked~label.sk-toggleable__label-arrow:before {content: \"▾\";}#sk-container-id-6 div.sk-estimator input.sk-toggleable__control:checked~label.sk-toggleable__label {background-color: #d4ebff;}#sk-container-id-6 div.sk-label input.sk-toggleable__control:checked~label.sk-toggleable__label {background-color: #d4ebff;}#sk-container-id-6 input.sk-hidden--visually {border: 0;clip: rect(1px 1px 1px 1px);clip: rect(1px, 1px, 1px, 1px);height: 1px;margin: -1px;overflow: hidden;padding: 0;position: absolute;width: 1px;}#sk-container-id-6 div.sk-estimator {font-family: monospace;background-color: #f0f8ff;border: 1px dotted black;border-radius: 0.25em;box-sizing: border-box;margin-bottom: 0.5em;}#sk-container-id-6 div.sk-estimator:hover {background-color: #d4ebff;}#sk-container-id-6 div.sk-parallel-item::after {content: \"\";width: 100%;border-bottom: 1px solid gray;flex-grow: 1;}#sk-container-id-6 div.sk-label:hover label.sk-toggleable__label {background-color: #d4ebff;}#sk-container-id-6 div.sk-serial::before {content: \"\";position: absolute;border-left: 1px solid gray;box-sizing: border-box;top: 0;bottom: 0;left: 50%;z-index: 0;}#sk-container-id-6 div.sk-serial {display: flex;flex-direction: column;align-items: center;background-color: white;padding-right: 0.2em;padding-left: 0.2em;position: relative;}#sk-container-id-6 div.sk-item {position: relative;z-index: 1;}#sk-container-id-6 div.sk-parallel {display: flex;align-items: stretch;justify-content: center;background-color: white;position: relative;}#sk-container-id-6 div.sk-item::before, #sk-container-id-6 div.sk-parallel-item::before {content: \"\";position: absolute;border-left: 1px solid gray;box-sizing: border-box;top: 0;bottom: 0;left: 50%;z-index: -1;}#sk-container-id-6 div.sk-parallel-item {display: flex;flex-direction: column;z-index: 1;position: relative;background-color: white;}#sk-container-id-6 div.sk-parallel-item:first-child::after {align-self: flex-end;width: 50%;}#sk-container-id-6 div.sk-parallel-item:last-child::after {align-self: flex-start;width: 50%;}#sk-container-id-6 div.sk-parallel-item:only-child::after {width: 0;}#sk-container-id-6 div.sk-dashed-wrapped {border: 1px dashed gray;margin: 0 0.4em 0.5em 0.4em;box-sizing: border-box;padding-bottom: 0.4em;background-color: white;}#sk-container-id-6 div.sk-label label {font-family: monospace;font-weight: bold;display: inline-block;line-height: 1.2em;}#sk-container-id-6 div.sk-label-container {text-align: center;}#sk-container-id-6 div.sk-container {/* jupyter's `normalize.less` sets `[hidden] { display: none; }` but bootstrap.min.css set `[hidden] { display: none !important; }` so we also need the `!important` here to be able to override the default hidden behavior on the sphinx rendered scikit-learn.org. See: https://github.com/scikit-learn/scikit-learn/issues/21755 */display: inline-block !important;position: relative;}#sk-container-id-6 div.sk-text-repr-fallback {display: none;}</style><div id=\"sk-container-id-6\" class=\"sk-top-container\"><div class=\"sk-text-repr-fallback\"><pre>StackingRegressor(cv=KFold(n_splits=5, random_state=1, shuffle=True),\n",
       "                  estimators=[(&#x27;cat&#x27;,\n",
       "                               &lt;catboost.core.CatBoostRegressor object at 0x7fb87c16c0d0&gt;),\n",
       "                              (&#x27;xg&#x27;,\n",
       "                               XGBRegressor(base_score=None, booster=None,\n",
       "                                            callbacks=None,\n",
       "                                            colsample_bylevel=None,\n",
       "                                            colsample_bynode=None,\n",
       "                                            colsample_bytree=1.0,\n",
       "                                            early_stopping_rounds=None,\n",
       "                                            enable_categorical=False,\n",
       "                                            eval_metric=None,\n",
       "                                            feature_t...\n",
       "                                            max_cat_to_onehot=None,\n",
       "                                            max_delta_step=None, max_depth=4,\n",
       "                                            max_leaves=None,\n",
       "                                            min_child_weight=None, missing=nan,\n",
       "                                            monotone_constraints=None,\n",
       "                                            n_estimators=500, n_jobs=None,\n",
       "                                            num_parallel_tree=None,\n",
       "                                            predictor=None, random_state=1, ...)),\n",
       "                              (&#x27;rf&#x27;,\n",
       "                               RandomForestRegressor(max_depth=25,\n",
       "                                                     max_features=0.8,\n",
       "                                                     max_leaf_nodes=500,\n",
       "                                                     n_jobs=-1,\n",
       "                                                     random_state=1))],\n",
       "                  final_estimator=LinearRegression())</pre><b>In a Jupyter environment, please rerun this cell to show the HTML representation or trust the notebook. <br />On GitHub, the HTML representation is unable to render, please try loading this page with nbviewer.org.</b></div><div class=\"sk-container\" hidden><div class=\"sk-item sk-dashed-wrapped\"><div class=\"sk-label-container\"><div class=\"sk-label sk-toggleable\"><input class=\"sk-toggleable__control sk-hidden--visually\" id=\"sk-estimator-id-27\" type=\"checkbox\" ><label for=\"sk-estimator-id-27\" class=\"sk-toggleable__label sk-toggleable__label-arrow\">StackingRegressor</label><div class=\"sk-toggleable__content\"><pre>StackingRegressor(cv=KFold(n_splits=5, random_state=1, shuffle=True),\n",
       "                  estimators=[(&#x27;cat&#x27;,\n",
       "                               &lt;catboost.core.CatBoostRegressor object at 0x7fb87c16c0d0&gt;),\n",
       "                              (&#x27;xg&#x27;,\n",
       "                               XGBRegressor(base_score=None, booster=None,\n",
       "                                            callbacks=None,\n",
       "                                            colsample_bylevel=None,\n",
       "                                            colsample_bynode=None,\n",
       "                                            colsample_bytree=1.0,\n",
       "                                            early_stopping_rounds=None,\n",
       "                                            enable_categorical=False,\n",
       "                                            eval_metric=None,\n",
       "                                            feature_t...\n",
       "                                            max_cat_to_onehot=None,\n",
       "                                            max_delta_step=None, max_depth=4,\n",
       "                                            max_leaves=None,\n",
       "                                            min_child_weight=None, missing=nan,\n",
       "                                            monotone_constraints=None,\n",
       "                                            n_estimators=500, n_jobs=None,\n",
       "                                            num_parallel_tree=None,\n",
       "                                            predictor=None, random_state=1, ...)),\n",
       "                              (&#x27;rf&#x27;,\n",
       "                               RandomForestRegressor(max_depth=25,\n",
       "                                                     max_features=0.8,\n",
       "                                                     max_leaf_nodes=500,\n",
       "                                                     n_jobs=-1,\n",
       "                                                     random_state=1))],\n",
       "                  final_estimator=LinearRegression())</pre></div></div></div><div class=\"sk-serial\"><div class=\"sk-item\"><div class=\"sk-parallel\"><div class=\"sk-parallel-item\"><div class=\"sk-item\"><div class=\"sk-label-container\"><div class=\"sk-label sk-toggleable\"><label>cat</label></div></div><div class=\"sk-serial\"><div class=\"sk-item\"><div class=\"sk-estimator sk-toggleable\"><input class=\"sk-toggleable__control sk-hidden--visually\" id=\"sk-estimator-id-28\" type=\"checkbox\" ><label for=\"sk-estimator-id-28\" class=\"sk-toggleable__label sk-toggleable__label-arrow\">CatBoostRegressor</label><div class=\"sk-toggleable__content\"><pre>&lt;catboost.core.CatBoostRegressor object at 0x7fb87c16c0d0&gt;</pre></div></div></div></div></div></div><div class=\"sk-parallel-item\"><div class=\"sk-item\"><div class=\"sk-label-container\"><div class=\"sk-label sk-toggleable\"><label>xg</label></div></div><div class=\"sk-serial\"><div class=\"sk-item\"><div class=\"sk-estimator sk-toggleable\"><input class=\"sk-toggleable__control sk-hidden--visually\" id=\"sk-estimator-id-29\" type=\"checkbox\" ><label for=\"sk-estimator-id-29\" class=\"sk-toggleable__label sk-toggleable__label-arrow\">XGBRegressor</label><div class=\"sk-toggleable__content\"><pre>XGBRegressor(base_score=None, booster=None, callbacks=None,\n",
       "             colsample_bylevel=None, colsample_bynode=None,\n",
       "             colsample_bytree=1.0, early_stopping_rounds=None,\n",
       "             enable_categorical=False, eval_metric=None, feature_types=None,\n",
       "             gamma=0, gpu_id=None, grow_policy=None, importance_type=None,\n",
       "             interaction_constraints=None, learning_rate=0.05, max_bin=None,\n",
       "             max_cat_threshold=None, max_cat_to_onehot=None,\n",
       "             max_delta_step=None, max_depth=4, max_leaves=None,\n",
       "             min_child_weight=None, missing=nan, monotone_constraints=None,\n",
       "             n_estimators=500, n_jobs=None, num_parallel_tree=None,\n",
       "             predictor=None, random_state=1, ...)</pre></div></div></div></div></div></div><div class=\"sk-parallel-item\"><div class=\"sk-item\"><div class=\"sk-label-container\"><div class=\"sk-label sk-toggleable\"><label>rf</label></div></div><div class=\"sk-serial\"><div class=\"sk-item\"><div class=\"sk-estimator sk-toggleable\"><input class=\"sk-toggleable__control sk-hidden--visually\" id=\"sk-estimator-id-30\" type=\"checkbox\" ><label for=\"sk-estimator-id-30\" class=\"sk-toggleable__label sk-toggleable__label-arrow\">RandomForestRegressor</label><div class=\"sk-toggleable__content\"><pre>RandomForestRegressor(max_depth=25, max_features=0.8, max_leaf_nodes=500,\n",
       "                      n_jobs=-1, random_state=1)</pre></div></div></div></div></div></div></div></div><div class=\"sk-item\"><div class=\"sk-parallel\"><div class=\"sk-parallel-item\"><div class=\"sk-item\"><div class=\"sk-label-container\"><div class=\"sk-label sk-toggleable\"><label>final_estimator</label></div></div><div class=\"sk-serial\"><div class=\"sk-item\"><div class=\"sk-estimator sk-toggleable\"><input class=\"sk-toggleable__control sk-hidden--visually\" id=\"sk-estimator-id-31\" type=\"checkbox\" ><label for=\"sk-estimator-id-31\" class=\"sk-toggleable__label sk-toggleable__label-arrow\">LinearRegression</label><div class=\"sk-toggleable__content\"><pre>LinearRegression()</pre></div></div></div></div></div></div></div></div></div></div></div></div>"
      ],
      "text/plain": [
       "StackingRegressor(cv=KFold(n_splits=5, random_state=1, shuffle=True),\n",
       "                  estimators=[('cat',\n",
       "                               <catboost.core.CatBoostRegressor object at 0x7fb87c16c0d0>),\n",
       "                              ('xg',\n",
       "                               XGBRegressor(base_score=None, booster=None,\n",
       "                                            callbacks=None,\n",
       "                                            colsample_bylevel=None,\n",
       "                                            colsample_bynode=None,\n",
       "                                            colsample_bytree=1.0,\n",
       "                                            early_stopping_rounds=None,\n",
       "                                            enable_categorical=False,\n",
       "                                            eval_metric=None,\n",
       "                                            feature_t...\n",
       "                                            max_cat_to_onehot=None,\n",
       "                                            max_delta_step=None, max_depth=4,\n",
       "                                            max_leaves=None,\n",
       "                                            min_child_weight=None, missing=nan,\n",
       "                                            monotone_constraints=None,\n",
       "                                            n_estimators=500, n_jobs=None,\n",
       "                                            num_parallel_tree=None,\n",
       "                                            predictor=None, random_state=1, ...)),\n",
       "                              ('rf',\n",
       "                               RandomForestRegressor(max_depth=25,\n",
       "                                                     max_features=0.8,\n",
       "                                                     max_leaf_nodes=500,\n",
       "                                                     n_jobs=-1,\n",
       "                                                     random_state=1))],\n",
       "                  final_estimator=LinearRegression())"
      ]
     },
     "execution_count": 78,
     "metadata": {},
     "output_type": "execute_result"
    }
   ],
   "source": [
    "# ensemble\n",
    "# StackingRegressor using LinearRegression as the metamodel\n",
    "\n",
    "from sklearn.ensemble import StackingRegressor\n",
    "from sklearn.linear_model import LinearRegression\n",
    "\n",
    "en = StackingRegressor(estimators = [('cat', model_cat), ('xg', xg), ('rf', tuned_rf)],\n",
    "                     final_estimator=LinearRegression(),                                          \n",
    "                    cv = KFold(n_splits = 5, shuffle = True, random_state=1))\n",
    "en.fit(X,y)"
   ]
  },
  {
   "cell_type": "code",
   "execution_count": 79,
   "metadata": {
    "colab": {
     "base_uri": "https://localhost:8080/"
    },
    "id": "Hfrz2ueLSN_p",
    "outputId": "3ce2c87a-3cad-4093-b869-46d7dbcd858b"
   },
   "outputs": [
    {
     "data": {
      "text/plain": [
       "5.9999581459084155"
      ]
     },
     "execution_count": 79,
     "metadata": {},
     "output_type": "execute_result"
    }
   ],
   "source": [
    "en_train_pred = en.predict(X)\n",
    "np.sqrt(mean_squared_error(np.exp(y), np.exp(en_train_pred)))"
   ]
  },
  {
   "cell_type": "code",
   "execution_count": 80,
   "metadata": {
    "colab": {
     "base_uri": "https://localhost:8080/"
    },
    "id": "-jrQpi9cbEQ5",
    "outputId": "b9c4d781-8d7a-47f8-baa3-221431f511c9"
   },
   "outputs": [
    {
     "name": "stdout",
     "output_type": "stream",
     "text": [
      "(4403, 77)\n"
     ]
    }
   ],
   "source": [
    "# Test Predictions\n",
    "data = pd.read_csv('test.csv')\n",
    "id = data.id\n",
    "\n",
    "data = data.drop(nan_col, axis=1)\n",
    "\n",
    "imputer = impute.KNNImputer(n_neighbors=5)\n",
    "data = imputer.fit_transform(data)\n",
    "\n",
    "data = scaler.transform(data)\n",
    "\n",
    "data = pd.DataFrame(data)\n",
    "\n",
    "data.columns = data.columns.astype(int)\n",
    "data = data.drop(res, axis=1)\n",
    "data.columns = data.columns.astype(str)\n",
    "\n",
    "data = data.loc[:,selected_predictors]\n",
    "\n",
    "\n",
    "print(data.shape)\n",
    "\n",
    "test_pred = np.exp(en.predict(data))"
   ]
  },
  {
   "cell_type": "code",
   "execution_count": 81,
   "metadata": {
    "colab": {
     "base_uri": "https://localhost:8080/",
     "height": 419
    },
    "id": "ya9UtM-2zjtX",
    "outputId": "c9da0ea8-bd39-44e3-b42e-10c0eb14a2a7"
   },
   "outputs": [
    {
     "data": {
      "text/html": [
       "\n",
       "  <div id=\"df-6981ed3a-2133-44f6-8f17-d6bf38324a35\">\n",
       "    <div class=\"colab-df-container\">\n",
       "      <div>\n",
       "<style scoped>\n",
       "    .dataframe tbody tr th:only-of-type {\n",
       "        vertical-align: middle;\n",
       "    }\n",
       "\n",
       "    .dataframe tbody tr th {\n",
       "        vertical-align: top;\n",
       "    }\n",
       "\n",
       "    .dataframe thead th {\n",
       "        text-align: right;\n",
       "    }\n",
       "</style>\n",
       "<table border=\"1\" class=\"dataframe\">\n",
       "  <thead>\n",
       "    <tr style=\"text-align: right;\">\n",
       "      <th></th>\n",
       "      <th>id</th>\n",
       "      <th>y</th>\n",
       "    </tr>\n",
       "  </thead>\n",
       "  <tbody>\n",
       "    <tr>\n",
       "      <th>0</th>\n",
       "      <td>5380</td>\n",
       "      <td>4.248909</td>\n",
       "    </tr>\n",
       "    <tr>\n",
       "      <th>1</th>\n",
       "      <td>5381</td>\n",
       "      <td>6.772176</td>\n",
       "    </tr>\n",
       "    <tr>\n",
       "      <th>2</th>\n",
       "      <td>5382</td>\n",
       "      <td>2.177992</td>\n",
       "    </tr>\n",
       "    <tr>\n",
       "      <th>3</th>\n",
       "      <td>5383</td>\n",
       "      <td>6.470433</td>\n",
       "    </tr>\n",
       "    <tr>\n",
       "      <th>4</th>\n",
       "      <td>5384</td>\n",
       "      <td>3.652845</td>\n",
       "    </tr>\n",
       "    <tr>\n",
       "      <th>...</th>\n",
       "      <td>...</td>\n",
       "      <td>...</td>\n",
       "    </tr>\n",
       "    <tr>\n",
       "      <th>4398</th>\n",
       "      <td>9778</td>\n",
       "      <td>2.949133</td>\n",
       "    </tr>\n",
       "    <tr>\n",
       "      <th>4399</th>\n",
       "      <td>9779</td>\n",
       "      <td>7.990218</td>\n",
       "    </tr>\n",
       "    <tr>\n",
       "      <th>4400</th>\n",
       "      <td>9780</td>\n",
       "      <td>9.699207</td>\n",
       "    </tr>\n",
       "    <tr>\n",
       "      <th>4401</th>\n",
       "      <td>9781</td>\n",
       "      <td>8.879816</td>\n",
       "    </tr>\n",
       "    <tr>\n",
       "      <th>4402</th>\n",
       "      <td>9782</td>\n",
       "      <td>5.562762</td>\n",
       "    </tr>\n",
       "  </tbody>\n",
       "</table>\n",
       "<p>4403 rows × 2 columns</p>\n",
       "</div>\n",
       "      <button class=\"colab-df-convert\" onclick=\"convertToInteractive('df-6981ed3a-2133-44f6-8f17-d6bf38324a35')\"\n",
       "              title=\"Convert this dataframe to an interactive table.\"\n",
       "              style=\"display:none;\">\n",
       "        \n",
       "  <svg xmlns=\"http://www.w3.org/2000/svg\" height=\"24px\"viewBox=\"0 0 24 24\"\n",
       "       width=\"24px\">\n",
       "    <path d=\"M0 0h24v24H0V0z\" fill=\"none\"/>\n",
       "    <path d=\"M18.56 5.44l.94 2.06.94-2.06 2.06-.94-2.06-.94-.94-2.06-.94 2.06-2.06.94zm-11 1L8.5 8.5l.94-2.06 2.06-.94-2.06-.94L8.5 2.5l-.94 2.06-2.06.94zm10 10l.94 2.06.94-2.06 2.06-.94-2.06-.94-.94-2.06-.94 2.06-2.06.94z\"/><path d=\"M17.41 7.96l-1.37-1.37c-.4-.4-.92-.59-1.43-.59-.52 0-1.04.2-1.43.59L10.3 9.45l-7.72 7.72c-.78.78-.78 2.05 0 2.83L4 21.41c.39.39.9.59 1.41.59.51 0 1.02-.2 1.41-.59l7.78-7.78 2.81-2.81c.8-.78.8-2.07 0-2.86zM5.41 20L4 18.59l7.72-7.72 1.47 1.35L5.41 20z\"/>\n",
       "  </svg>\n",
       "      </button>\n",
       "      \n",
       "  <style>\n",
       "    .colab-df-container {\n",
       "      display:flex;\n",
       "      flex-wrap:wrap;\n",
       "      gap: 12px;\n",
       "    }\n",
       "\n",
       "    .colab-df-convert {\n",
       "      background-color: #E8F0FE;\n",
       "      border: none;\n",
       "      border-radius: 50%;\n",
       "      cursor: pointer;\n",
       "      display: none;\n",
       "      fill: #1967D2;\n",
       "      height: 32px;\n",
       "      padding: 0 0 0 0;\n",
       "      width: 32px;\n",
       "    }\n",
       "\n",
       "    .colab-df-convert:hover {\n",
       "      background-color: #E2EBFA;\n",
       "      box-shadow: 0px 1px 2px rgba(60, 64, 67, 0.3), 0px 1px 3px 1px rgba(60, 64, 67, 0.15);\n",
       "      fill: #174EA6;\n",
       "    }\n",
       "\n",
       "    [theme=dark] .colab-df-convert {\n",
       "      background-color: #3B4455;\n",
       "      fill: #D2E3FC;\n",
       "    }\n",
       "\n",
       "    [theme=dark] .colab-df-convert:hover {\n",
       "      background-color: #434B5C;\n",
       "      box-shadow: 0px 1px 3px 1px rgba(0, 0, 0, 0.15);\n",
       "      filter: drop-shadow(0px 1px 2px rgba(0, 0, 0, 0.3));\n",
       "      fill: #FFFFFF;\n",
       "    }\n",
       "  </style>\n",
       "\n",
       "      <script>\n",
       "        const buttonEl =\n",
       "          document.querySelector('#df-6981ed3a-2133-44f6-8f17-d6bf38324a35 button.colab-df-convert');\n",
       "        buttonEl.style.display =\n",
       "          google.colab.kernel.accessAllowed ? 'block' : 'none';\n",
       "\n",
       "        async function convertToInteractive(key) {\n",
       "          const element = document.querySelector('#df-6981ed3a-2133-44f6-8f17-d6bf38324a35');\n",
       "          const dataTable =\n",
       "            await google.colab.kernel.invokeFunction('convertToInteractive',\n",
       "                                                     [key], {});\n",
       "          if (!dataTable) return;\n",
       "\n",
       "          const docLinkHtml = 'Like what you see? Visit the ' +\n",
       "            '<a target=\"_blank\" href=https://colab.research.google.com/notebooks/data_table.ipynb>data table notebook</a>'\n",
       "            + ' to learn more about interactive tables.';\n",
       "          element.innerHTML = '';\n",
       "          dataTable['output_type'] = 'display_data';\n",
       "          await google.colab.output.renderOutput(dataTable, element);\n",
       "          const docLink = document.createElement('div');\n",
       "          docLink.innerHTML = docLinkHtml;\n",
       "          element.appendChild(docLink);\n",
       "        }\n",
       "      </script>\n",
       "    </div>\n",
       "  </div>\n",
       "  "
      ],
      "text/plain": [
       "        id         y\n",
       "0     5380  4.248909\n",
       "1     5381  6.772176\n",
       "2     5382  2.177992\n",
       "3     5383  6.470433\n",
       "4     5384  3.652845\n",
       "...    ...       ...\n",
       "4398  9778  2.949133\n",
       "4399  9779  7.990218\n",
       "4400  9780  9.699207\n",
       "4401  9781  8.879816\n",
       "4402  9782  5.562762\n",
       "\n",
       "[4403 rows x 2 columns]"
      ]
     },
     "execution_count": 81,
     "metadata": {},
     "output_type": "execute_result"
    }
   ],
   "source": [
    "data = pd.read_csv('test.csv')\n",
    "id = data.id\n",
    "\n",
    "output = pd.DataFrame()\n",
    "output['id'] = id\n",
    "output['y'] = test_pred\n",
    "\n",
    "\n",
    "output.loc[output['y']<0, 'y'] = 0\n",
    "output.loc[output['y']>100, 'y'] = 100\n",
    "output"
   ]
  },
  {
   "cell_type": "code",
   "execution_count": 82,
   "metadata": {
    "id": "kb6zGXm7zpsw"
   },
   "outputs": [],
   "source": [
    "output = output.set_index('id')\n",
    "output.to_csv('submission72.csv')"
   ]
  }
 ],
 "metadata": {
  "colab": {
   "provenance": []
  },
  "kernelspec": {
   "display_name": "Python 3",
   "language": "python",
   "name": "python3"
  },
  "language_info": {
   "codemirror_mode": {
    "name": "ipython",
    "version": 3
   },
   "file_extension": ".py",
   "mimetype": "text/x-python",
   "name": "python",
   "nbconvert_exporter": "python",
   "pygments_lexer": "ipython3",
   "version": "3.6.13"
  }
 },
 "nbformat": 4,
 "nbformat_minor": 1
}
